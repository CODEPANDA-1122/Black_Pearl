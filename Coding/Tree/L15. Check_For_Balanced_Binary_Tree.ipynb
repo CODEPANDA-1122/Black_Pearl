{
 "cells": [
  {
   "cell_type": "markdown",
   "metadata": {},
   "source": [
    "# 🌳 Check if a Binary Tree is Balanced\n",
    "\n",
    "- Using DFS (post-order) approach.\n",
    "- Returns `False` immediately if any subtree is not balanced.\n",
    "- Very efficient: O(n) time."
   ]
  },
  {
   "cell_type": "code",
   "execution_count": null,
   "metadata": {},
   "outputs": [],
   "source": [
    "from typing import Optional\n",
    "\n",
    "class TreeNode:\n",
    "    def __init__(self, val=0, left=None, right=None):\n",
    "        self.val = val\n",
    "        self.left = left\n",
    "        self.right = right\n",
    "\n",
    "class Solution:\n",
    "    def isBalanced(self, root: Optional[TreeNode]) -> bool:\n",
    "        def dfs(node):\n",
    "            if not node:\n",
    "                return 0\n",
    "            l = dfs(node.left)\n",
    "            if l == -1:\n",
    "                return -1\n",
    "            r = dfs(node.right)\n",
    "            if r == -1:\n",
    "                return -1\n",
    "            if abs(l - r) > 1:\n",
    "                return -1\n",
    "            return 1 + max(l, r)\n",
    "        return dfs(root) != -1"
   ]
  },
  {
   "cell_type": "markdown",
   "metadata": {},
   "source": [
    "## 🌿 Test trees"
   ]
  },
  {
   "cell_type": "code",
   "execution_count": null,
   "metadata": {},
   "outputs": [],
   "source": [
    "# Balanced example\n",
    "root1 = TreeNode(1)\n",
    "root1.left = TreeNode(2)\n",
    "root1.right = TreeNode(3)\n",
    "root1.left.left = TreeNode(4)\n",
    "root1.left.right = TreeNode(5)\n",
    "\n",
    "# Unbalanced example\n",
    "root2 = TreeNode(1)\n",
    "root2.left = TreeNode(2)\n",
    "root2.left.left = TreeNode(3)\n",
    "\n",
    "sol = Solution()\n",
    "print(\"Is tree 1 balanced?\", sol.isBalanced(root1))  # True\n",
    "print(\"Is tree 2 balanced?\", sol.isBalanced(root2))  # False"
   ]
  },
  {
   "cell_type": "markdown",
   "metadata": {},
   "source": [
    "✅ **Time Complexity:** O(n), visits each node once.\n",
    "\n",
    "✅ **Space Complexity:** O(h), h = height due to recursion stack."
   ]
  }
 ],
 "metadata": {
  "kernelspec": {
   "display_name": "Python 3",
   "language": "python",
   "name": "python3"
  },
  "language_info": {
   "name": "python"
  }
 },
 "nbformat": 4,
 "nbformat_minor": 2
}
