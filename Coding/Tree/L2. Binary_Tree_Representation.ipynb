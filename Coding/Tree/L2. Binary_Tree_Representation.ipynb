{
 "cells": [
  {
   "cell_type": "markdown",
   "metadata": {},
   "source": [
    "# 🌳 Binary Tree Representation\n",
    "This notebook shows how to represent a binary tree in **Python** (with runnable code) and in **Java** (for reference)."
   ]
  },
  {
   "cell_type": "markdown",
   "metadata": {},
   "source": [
    "## 🐍 Binary Tree in Python"
   ]
  },
  {
   "cell_type": "code",
   "execution_count": null,
   "metadata": {},
   "outputs": [],
   "source": [
    "# Binary Tree Node in Python\n",
    "class Node:\n",
    "    def __init__(self, data):\n",
    "        self.data = data\n",
    "        self.left = None\n",
    "        self.right = None\n",
    "\n",
    "# Building the tree\n",
    "#         1\n",
    "#       /   \\\n",
    "#      2     3\n",
    "#     / \\\n",
    "#    4   5\n",
    "\n",
    "root = Node(1)\n",
    "root.left = Node(2)\n",
    "root.right = Node(3)\n",
    "root.left.left = Node(4)\n",
    "root.left.right = Node(5)"
   ]
  },
  {
   "cell_type": "code",
   "execution_count": null,
   "metadata": {},
   "outputs": [],
   "source": [
    "# Simple in-order traversal to verify tree\n",
    "def inorder(node):\n",
    "    if node:\n",
    "        inorder(node.left)\n",
    "        print(node.data, end=' ')\n",
    "        inorder(node.right)\n",
    "\n",
    "print(\"In-order traversal of the tree:\")\n",
    "inorder(root)"
   ]
  },
  {
   "cell_type": "markdown",
   "metadata": {},
   "source": [
    "## ☕ Binary Tree in Java\n",
    "\n",
    "```java\n",
    "// Binary Tree Node in Java\n",
    "class Node {\n",
    "    int data;\n",
    "    Node left, right;\n",
    "\n",
    "    Node(int data) {\n",
    "        this.data = data;\n",
    "        left = right = null;\n",
    "    }\n",
    "}\n",
    "\n",
    "public class BinaryTree {\n",
    "    Node root;\n",
    "\n",
    "    public BinaryTree() {\n",
    "        root = null;\n",
    "    }\n",
    "\n",
    "    public static void main(String[] args) {\n",
    "        BinaryTree tree = new BinaryTree();\n",
    "        // building the tree:\n",
    "        //         1\n",
    "        //       /   \\\n",
    "        //      2     3\n",
    "        //     / \\\n",
    "        //    4   5\n",
    "        tree.root = new Node(1);\n",
    "        tree.root.left = new Node(2);\n",
    "        tree.root.right = new Node(3);\n",
    "        tree.root.left.left = new Node(4);\n",
    "        tree.root.left.right = new Node(5);\n",
    "\n",
    "        System.out.println(\"Tree created successfully.\");\n",
    "    }\n",
    "}\n",
    "```"
   ]
  },
  {
   "cell_type": "markdown",
   "metadata": {},
   "source": [
    "✅ This shows how binary trees look in both **Python** (executable) and **Java** (reference).\n",
    "\n",
    "If you want, I can also prepare traversal methods in Java side by side.\n",
    "\n",
    "**Tell me:**\n",
    "> \"Add traversals for both languages\"\n",
    "\n",
    "and I'll include them here!"
   ]
  }
 ],
 "metadata": {
  "kernelspec": {
   "display_name": "Python 3",
   "language": "python",
   "name": "python3"
  },
  "language_info": {
   "name": "python",
   "version": ""
  }
 },
 "nbformat": 4,
 "nbformat_minor": 2
}
