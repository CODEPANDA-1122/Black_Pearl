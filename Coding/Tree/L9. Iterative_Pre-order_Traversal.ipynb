{
 "cells": [
  {
   "cell_type": "markdown",
   "metadata": {},
   "source": [
    "# 🌳 Iterative Pre-order Traversal\n",
    "\n",
    "**Definition:**\n",
    "- Pre-order visits nodes in `Root -> Left -> Right` order.\n",
    "- Iterative uses a stack to simulate recursion.\n",
    "\n",
    "✅ Helps prevent stack overflow for deep trees."
   ]
  },
  {
   "cell_type": "markdown",
   "metadata": {},
   "source": [
    "## 🚀 Python Code (Iterative)"
   ]
  },
  {
   "cell_type": "code",
   "execution_count": null,
   "metadata": {},
   "outputs": [],
   "source": [
    "class Node:\n",
    "    def __init__(self, data):\n",
    "        self.data = data\n",
    "        self.left = None\n",
    "        self.right = None\n",
    "\n",
    "# Build tree\n",
    "root = Node(1)\n",
    "root.left = Node(2)\n",
    "root.right = Node(3)\n",
    "root.left.left = Node(4)\n",
    "root.left.right = Node(5)\n",
    "root.right.left = Node(6)\n",
    "\n",
    "def iterative_preorder(node):\n",
    "    if not node:\n",
    "        return\n",
    "    stack = [node]\n",
    "    while stack:\n",
    "        current = stack.pop()\n",
    "        print(current.data, end=' ')\n",
    "        # Push right first so left is processed first\n",
    "        if current.right:\n",
    "            stack.append(current.right)\n",
    "        if current.left:\n",
    "            stack.append(current.left)\n",
    "\n",
    "print(\"Iterative Pre-order traversal:\")\n",
    "iterative_preorder(root)"
   ]
  },
  {
   "cell_type": "markdown",
   "metadata": {},
   "source": [
    "## ☕ Java Code (Iterative)\n",
    "```java\n",
    "import java.util.*;\n",
    "\n",
    "class Node {\n",
    "    int data;\n",
    "    Node left, right;\n",
    "    Node(int data) {\n",
    "        this.data = data;\n",
    "        left = right = null;\n",
    "    }\n",
    "}\n",
    "\n",
    "public class BinaryTree {\n",
    "    Node root;\n",
    "\n",
    "    void iterativePreorder(Node node) {\n",
    "        if (node == null)\n",
    "            return;\n",
    "        Stack<Node> stack = new Stack<>();\n",
    "        stack.push(node);\n",
    "\n",
    "        while (!stack.isEmpty()) {\n",
    "            Node current = stack.pop();\n",
    "            System.out.print(current.data + \" \");\n",
    "\n",
    "            if (current.right != null)\n",
    "                stack.push(current.right);\n",
    "            if (current.left != null)\n",
    "                stack.push(current.left);\n",
    "        }\n",
    "    }\n",
    "\n",
    "    public static void main(String[] args) {\n",
    "        BinaryTree tree = new BinaryTree();\n",
    "        tree.root = new Node(1);\n",
    "        tree.root.left = new Node(2);\n",
    "        tree.root.right = new Node(3);\n",
    "        tree.root.left.left = new Node(4);\n",
    "        tree.root.left.right = new Node(5);\n",
    "        tree.root.right.left = new Node(6);\n",
    "\n",
    "        System.out.println(\"Iterative Pre-order traversal:\");\n",
    "        tree.iterativePreorder(tree.root);\n",
    "    }\n",
    "}\n",
    "```"
   ]
  },
  {
   "cell_type": "markdown",
   "metadata": {},
   "source": [
    "✅ **Time Complexity:** O(n)\n",
    "\n",
    "✅ **Space Complexity:** O(h) — where `h` is height of tree (due to stack)."
   ]
  }
 ],
 "metadata": {
  "kernelspec": {"display_name": "Python 3","language": "python","name": "python3"},
  "language_info": {"name": "python"}
 },
 "nbformat": 4,
 "nbformat_minor": 2
}
