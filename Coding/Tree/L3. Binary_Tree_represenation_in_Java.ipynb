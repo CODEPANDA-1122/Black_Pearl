{
 "cells": [
  {
   "cell_type": "markdown",
   "metadata": {},
   "source": [
    "# 🌳 Binary Tree Representation in Java\n",
    "This notebook demonstrates how to represent a **binary tree in Java**.\n",
    "\n",
    "It shows how to create a `Node` class, a `BinaryTree` class, and build a simple tree."
   ]
  },
  {
   "cell_type": "markdown",
   "metadata": {},
   "source": [
    "## ☕ Java Code Example\n",
    "```java\n",
    "// Node class for Binary Tree\n",
    "class Node {\n",
    "    int data;\n",
    "    Node left, right;\n",
    "\n",
    "    public Node(int data) {\n",
    "        this.data = data;\n",
    "        left = right = null;\n",
    "    }\n",
    "}\n",
    "\n",
    "// BinaryTree class to build the tree\n",
    "public class BinaryTree {\n",
    "    Node root;\n",
    "\n",
    "    public BinaryTree() {\n",
    "        root = null;\n",
    "    }\n",
    "\n",
    "    public static void main(String[] args) {\n",
    "        BinaryTree tree = new BinaryTree();\n",
    "\n",
    "        // Building the tree:\n",
    "        //         1\n",
    "        //       /   \\\n",
    "        //      2     3\n",
    "        //     / \\\n",
    "        //    4   5\n",
    "        tree.root = new Node(1);\n",
    "        tree.root.left = new Node(2);\n",
    "        tree.root.right = new Node(3);\n",
    "        tree.root.left.left = new Node(4);\n",
    "        tree.root.left.right = new Node(5);\n",
    "\n",
    "        System.out.println(\"Binary tree created successfully.\");\n",
    "    }\n",
    "}\n",
    "```"
   ]
  },
  {
   "cell_type": "markdown",
   "metadata": {},
   "source": [
    "## 🔍 Explanation\n",
    "- `Node` class stores the data and has pointers to the left and right child.\n",
    "- `BinaryTree` holds the `root` node.\n",
    "- The `main` method constructs the tree manually."
   ]
  },
  {
   "cell_type": "markdown",
   "metadata": {},
   "source": [
    "✅ **Next:**\n",
    "- If you want, I can add **in-order, pre-order, post-order traversals** in Java.\n",
    "- Or examples of **inserting into a Binary Search Tree (BST)**.\n",
    "\n",
    "Tell me what you’d like!"
   ]
  }
 ],
 "metadata": {
  "kernelspec": {
   "display_name": "Python 3",
   "language": "python",
   "name": "python3"
  },
  "language_info": {
   "name": "python",
   "version": ""
  }
 },
 "nbformat": 4,
 "nbformat_minor": 2
}
