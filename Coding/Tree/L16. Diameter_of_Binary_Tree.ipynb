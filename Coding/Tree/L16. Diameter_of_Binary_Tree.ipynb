{
 "cells": [
  {
   "cell_type": "markdown",
   "metadata": {},
   "source": [
    "# 🌳 Diameter of a Binary Tree\n",
    "\n",
    "**Definition:**\n",
    "- Length of the longest path between any two nodes.\n",
    "- May or may not pass through the root.\n",
    "\n",
    "**Measured as number of edges.**"
   ]
  },
  {
   "cell_type": "markdown",
   "metadata": {},
   "source": [
    "## 🔍 Example\n",
    "```\n",
    "       1\n",
    "      / \\\n",
    "     2   3\n",
    "    / \\\n",
    "   4   5\n",
    "```\n",
    "✅ Diameter: 3 (`4 -> 2 -> 5` or `4 -> 2 -> 1 -> 3`)"
   ]
  },
  {
   "cell_type": "code",
   "execution_count": null,
   "metadata": {},
   "outputs": [],
   "source": [
    "class TreeNode:\n",
    "    def __init__(self, val=0, left=None, right=None):\n",
    "        self.val = val\n",
    "        self.left = left\n",
    "        self.right = right\n",
    "\n",
    "class Solution:\n",
    "    def diameterOfBinaryTree(self, root: TreeNode) -> int:\n",
    "        self.diameter = 0\n",
    "        \n",
    "        def height(node):\n",
    "            if not node:\n",
    "                return 0\n",
    "            lh = height(node.left)\n",
    "            rh = height(node.right)\n",
    "            self.diameter = max(self.diameter, lh + rh)\n",
    "            return 1 + max(lh, rh)\n",
    "        \n",
    "        height(root)\n",
    "        return self.diameter\n",
    "\n",
    "# Build tree\n",
    "root = TreeNode(1)\n",
    "root.left = TreeNode(2)\n",
    "root.right = TreeNode(3)\n",
    "root.left.left = TreeNode(4)\n",
    "root.left.right = TreeNode(5)\n",
    "\n",
    "sol = Solution()\n",
    "print(\"Diameter of tree:\", sol.diameterOfBinaryTree(root))"
   ]
  },
  {
   "cell_type": "markdown",
   "metadata": {},
   "source": [
    "## ☕ Java code for reference\n",
    "```java\n",
    "class TreeNode {\n",
    "    int val;\n",
    "    TreeNode left, right;\n",
    "    TreeNode(int val) {\n",
    "        this.val = val;\n",
    "        left = right = null;\n",
    "    }\n",
    "}\n",
    "public class BinaryTree {\n",
    "    int diameter = 0;\n",
    "    int height(TreeNode node) {\n",
    "        if (node == null)\n",
    "            return 0;\n",
    "        int lh = height(node.left);\n",
    "        int rh = height(node.right);\n",
    "        diameter = Math.max(diameter, lh + rh);\n",
    "        return 1 + Math.max(lh, rh);\n",
    "    }\n",
    "    int diameterOfBinaryTree(TreeNode root) {\n",
    "        height(root);\n",
    "        return diameter;\n",
    "    }\n",
    "    public static void main(String[] args) {\n",
    "        BinaryTree tree = new BinaryTree();\n",
    "        TreeNode root = new TreeNode(1);\n",
    "        root.left = new TreeNode(2);\n",
    "        root.right = new TreeNode(3);\n",
    "        root.left.left = new TreeNode(4);\n",
    "        root.left.right = new TreeNode(5);\n",
    "        System.out.println(\"Diameter of tree: \" + tree.diameterOfBinaryTree(root));\n",
    "    }\n",
    "}\n",
    "```"
   ]
  },
  {
   "cell_type": "markdown",
   "metadata": {},
   "source": [
    "✅ **Time Complexity:** O(n) — visits each node once.\n",
    "\n",
    "✅ **Space Complexity:** O(h) — recursion stack (h = height of tree)."
   ]
  }
 ],
 "metadata": {
  "kernelspec": {"display_name": "Python 3","language": "python","name": "python3"},
  "language_info": {"name": "python"}
 },
 "nbformat": 4,
 "nbformat_minor": 2
}
