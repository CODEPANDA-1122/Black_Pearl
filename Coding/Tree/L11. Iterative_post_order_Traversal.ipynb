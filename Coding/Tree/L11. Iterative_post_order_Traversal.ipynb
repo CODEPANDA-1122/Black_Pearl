{
 "cells": [
  {
   "cell_type": "markdown",
   "metadata": {},
   "source": [
    "# 🌳 Iterative Post-order Traversal\n",
    "\n",
    "**Definition:**\n",
    "- Visits nodes in `Left -> Right -> Root` order.\n",
    "- Typically uses **two stacks** to reverse pre-order.\n",
    "\n",
    "✅ Useful for deleting trees safely."
   ]
  },
  {
   "cell_type": "markdown",
   "metadata": {},
   "source": [
    "## 🚀 Python Code (using two stacks)"
   ]
  },
  {
   "cell_type": "code",
   "execution_count": null,
   "metadata": {},
   "outputs": [],
   "source": [
    "class Node:\n",
    "    def __init__(self, data):\n",
    "        self.data = data\n",
    "        self.left = None\n",
    "        self.right = None\n",
    "\n",
    "# Build tree\n",
    "root = Node(1)\n",
    "root.left = Node(2)\n",
    "root.right = Node(3)\n",
    "root.left.left = Node(4)\n",
    "root.left.right = Node(5)\n",
    "root.right.left = Node(6)\n",
    "\n",
    "def iterative_postorder(node):\n",
    "    if not node:\n",
    "        return\n",
    "    stack1 = [node]\n",
    "    stack2 = []\n",
    "    while stack1:\n",
    "        current = stack1.pop()\n",
    "        stack2.append(current)\n",
    "        if current.left:\n",
    "            stack1.append(current.left)\n",
    "        if current.right:\n",
    "            stack1.append(current.right)\n",
    "    while stack2:\n",
    "        print(stack2.pop().data, end=' ')\n",
    "\n",
    "print(\"Iterative Post-order traversal:\")\n",
    "iterative_postorder(root)"
   ]
  },
  {
   "cell_type": "markdown",
   "metadata": {},
   "source": [
    "## ☕ Java Code (using two stacks)\n",
    "```java\n",
    "import java.util.*;\n",
    "\n",
    "class Node {\n",
    "    int data;\n",
    "    Node left, right;\n",
    "    Node(int data) {\n",
    "        this.data = data;\n",
    "        left = right = null;\n",
    "    }\n",
    "}\n",
    "\n",
    "public class BinaryTree {\n",
    "    Node root;\n",
    "\n",
    "    void iterativePostorder(Node node) {\n",
    "        if (node == null)\n",
    "            return;\n",
    "        Stack<Node> stack1 = new Stack<>();\n",
    "        Stack<Node> stack2 = new Stack<>();\n",
    "\n",
    "        stack1.push(node);\n",
    "        while (!stack1.isEmpty()) {\n",
    "            Node current = stack1.pop();\n",
    "            stack2.push(current);\n",
    "\n",
    "            if (current.left != null)\n",
    "                stack1.push(current.left);\n",
    "            if (current.right != null)\n",
    "                stack1.push(current.right);\n",
    "        }\n",
    "\n",
    "        while (!stack2.isEmpty()) {\n",
    "            System.out.print(stack2.pop().data + \" \");\n",
    "        }\n",
    "    }\n",
    "\n",
    "    public static void main(String[] args) {\n",
    "        BinaryTree tree = new BinaryTree();\n",
    "        tree.root = new Node(1);\n",
    "        tree.root.left = new Node(2);\n",
    "        tree.root.right = new Node(3);\n",
    "        tree.root.left.left = new Node(4);\n",
    "        tree.root.left.right = new Node(5);\n",
    "        tree.root.right.left = new Node(6);\n",
    "\n",
    "        System.out.println(\"Iterative Post-order traversal:\");\n",
    "        tree.iterativePostorder(tree.root);\n",
    "    }\n",
    "}\n",
    "```"
   ]
  },
  {
   "cell_type": "markdown",
   "metadata": {},
   "source": [
    "✅ **Time Complexity:** O(n) — visits each node once\n",
    "\n",
    "✅ **Space Complexity:** O(n) — uses two stacks."
   ]
  }
 ],
 "metadata": {
  "kernelspec": {"display_name": "Python 3","language": "python","name": "python3"},
  "language_info": {"name": "python"}
 },
 "nbformat": 4,
 "nbformat_minor": 2
}
