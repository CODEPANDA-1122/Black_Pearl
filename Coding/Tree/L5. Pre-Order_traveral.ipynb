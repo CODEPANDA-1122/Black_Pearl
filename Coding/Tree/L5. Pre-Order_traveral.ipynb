{
 "cells": [
  {
   "cell_type": "markdown",
   "metadata": {},
   "source": [
    "# 🌳 Pre-order Traversal\n",
    "\n",
    "## 🚀 Python Implementation"
   ]
  },
  {
   "cell_type": "code",
   "execution_count": null,
   "metadata": {},
   "outputs": [],
   "source": [
    "class Node:\n",
    "    def __init__(self, data):\n",
    "        self.data = data\n",
    "        self.left = None\n",
    "        self.right = None\n",
    "\n",
    "root = Node(1)\n",
    "root.left = Node(2)\n",
    "root.right = Node(3)\n",
    "root.left.left = Node(4)\n",
    "root.left.right = Node(5)\n",
    "\n",
    "def preorder(node):\n",
    "    if node:\n",
    "        print(node.data, end=' ')\n",
    "        preorder(node.left)\n",
    "        preorder(node.right)\n",
    "\n",
    "print(\"Pre-order traversal:\")\n",
    "preorder(root)"
   ]
  },
  {
   "cell_type": "markdown",
   "metadata": {},
   "source": [
    "## ☕ Java Implementation\n",
    "```java\n",
    "class Node {\n",
    "    int data;\n",
    "    Node left, right;\n",
    "    Node(int data) {\n",
    "        this.data = data;\n",
    "        left = right = null;\n",
    "    }\n",
    "}\n",
    "\n",
    "public class BinaryTree {\n",
    "    Node root;\n",
    "\n",
    "    void preorder(Node node) {\n",
    "        if (node != null) {\n",
    "            System.out.print(node.data + \" \");\n",
    "            preorder(node.left);\n",
    "            preorder(node.right);\n",
    "        }\n",
    "    }\n",
    "\n",
    "    public static void main(String[] args) {\n",
    "        BinaryTree tree = new BinaryTree();\n",
    "        tree.root = new Node(1);\n",
    "        tree.root.left = new Node(2);\n",
    "        tree.root.right = new Node(3);\n",
    "        tree.root.left.left = new Node(4);\n",
    "        tree.root.left.right = new Node(5);\n",
    "\n",
    "        System.out.println(\"Pre-order traversal:\");\n",
    "        tree.preorder(tree.root);\n",
    "    }\n",
    "}\n",
    "```"
   ]
  }
 ],
 "metadata": {
  "kernelspec": {"display_name": "Python 3","language": "python","name": "python3"},
  "language_info": {"name": "python"}
 },
 "nbformat": 4,
 "nbformat_minor": 2
}
