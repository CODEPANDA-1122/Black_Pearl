{
 "cells": [
  {
   "cell_type": "markdown",
   "metadata": {},
   "source": [
    "# 🌳 Maximum Height of a Binary Tree\n",
    "\n",
    "**Definition:**\n",
    "- Height (or depth) = number of nodes along longest path from root to a leaf.\n",
    "- Height of empty tree = 0."
   ]
  },
  {
   "cell_type": "markdown",
   "metadata": {},
   "source": [
    "## 🌿 Example tree\n",
    "```\n",
    "        1\n",
    "      /   \\\n",
    "     2     3\n",
    "    / \\     \\\n",
    "   4   5     6\n",
    "               \\\n",
    "                7\n",
    "```\n",
    "**Height:** 4"
   ]
  },
  {
   "cell_type": "code",
   "execution_count": null,
   "metadata": {},
   "outputs": [],
   "source": [
    "class Node:\n",
    "    def __init__(self, data):\n",
    "        self.data = data\n",
    "        self.left = None\n",
    "        self.right = None\n",
    "\n",
    "# Build tree\n",
    "root = Node(1)\n",
    "root.left = Node(2)\n",
    "root.right = Node(3)\n",
    "root.left.left = Node(4)\n",
    "root.left.right = Node(5)\n",
    "root.right.right = Node(6)\n",
    "root.right.right.right = Node(7)\n",
    "\n",
    "def max_height(node):\n",
    "    if node is None:\n",
    "        return 0\n",
    "    left_height = max_height(node.left)\n",
    "    right_height = max_height(node.right)\n",
    "    return 1 + max(left_height, right_height)\n",
    "\n",
    "print(\"Maximum height of the tree:\", max_height(root))"
   ]
  },
  {
   "cell_type": "markdown",
   "metadata": {},
   "source": [
    "## ☕ Java code for reference\n",
    "```java\n",
    "class Node {\n",
    "    int data;\n",
    "    Node left, right;\n",
    "    Node(int data) {\n",
    "        this.data = data;\n",
    "        left = right = null;\n",
    "    }\n",
    "}\n",
    "\n",
    "public class BinaryTree {\n",
    "    Node root;\n",
    "    \n",
    "    int maxHeight(Node node) {\n",
    "        if (node == null)\n",
    "            return 0;\n",
    "        int leftHeight = maxHeight(node.left);\n",
    "        int rightHeight = maxHeight(node.right);\n",
    "        return 1 + Math.max(leftHeight, rightHeight);\n",
    "    }\n",
    "\n",
    "    public static void main(String[] args) {\n",
    "        BinaryTree tree = new BinaryTree();\n",
    "        tree.root = new Node(1);\n",
    "        tree.root.left = new Node(2);\n",
    "        tree.root.right = new Node(3);\n",
    "        tree.root.left.left = new Node(4);\n",
    "        tree.root.left.right = new Node(5);\n",
    "        tree.root.right.right = new Node(6);\n",
    "        tree.root.right.right.right = new Node(7);\n",
    "\n",
    "        System.out.println(\"Maximum height of the tree: \" + tree.maxHeight(tree.root));\n",
    "    }\n",
    "}\n",
    "```"
   ]
  },
  {
   "cell_type": "markdown",
   "metadata": {},
   "source": [
    "✅ **Time Complexity:** O(n) — visits each node once\n",
    "\n",
    "✅ **Space Complexity:** O(h) — due to recursion stack (h = height)"
   ]
  }
 ],
 "metadata": {
  "kernelspec": {"display_name": "Python 3","language": "python","name": "python3"},
  "language_info": {"name": "python"}
 },
 "nbformat": 4,
 "nbformat_minor": 2
}
