{
 "cells": [
  {
   "cell_type": "markdown",
   "metadata": {},
   "source": [
    "# 🌳 Check if Two Binary Trees are Identical\n",
    "\n",
    "- Trees are identical if:\n",
    "  - They are structurally identical.\n",
    "  - The corresponding nodes have the same values."
   ]
  },
  {
   "cell_type": "markdown",
   "metadata": {},
   "source": [
    "## 🚀 Python Code"
   ]
  },
  {
   "cell_type": "code",
   "execution_count": null,
   "metadata": {},
   "outputs": [],
   "source": [
    "class TreeNode:\n",
    "    def __init__(self, val=0, left=None, right=None):\n",
    "        self.val = val\n",
    "        self.left = left\n",
    "        self.right = right\n",
    "\n",
    "class Solution:\n",
    "    def isSameTree(self, p, q):\n",
    "        if not p and not q:\n",
    "            return True\n",
    "        if not p or not q:\n",
    "            return False\n",
    "        return (p.val == q.val and \n",
    "                self.isSameTree(p.left, q.left) and \n",
    "                self.isSameTree(p.right, q.right))"
   ]
  },
  {
   "cell_type": "markdown",
   "metadata": {},
   "source": [
    "## 🌿 Test Examples"
   ]
  },
  {
   "cell_type": "code",
   "execution_count": null,
   "metadata": {},
   "outputs": [],
   "source": [
    "# Identical trees\n",
    "p = TreeNode(1)\n",
    "p.left = TreeNode(2)\n",
    "p.right = TreeNode(3)\n",
    "\n",
    "q = TreeNode(1)\n",
    "q.left = TreeNode(2)\n",
    "q.right = TreeNode(3)\n",
    "\n",
    "sol = Solution()\n",
    "print(\"Are trees identical?\", sol.isSameTree(p, q))  # True\n",
    "\n",
    "# Not identical\n",
    "r = TreeNode(1)\n",
    "r.left = TreeNode(2)\n",
    "\n",
    "s = TreeNode(1)\n",
    "s.right = TreeNode(2)\n",
    "\n",
    "print(\"Are trees identical?\", sol.isSameTree(r, s))  # False"
   ]
  },
  {
   "cell_type": "markdown",
   "metadata": {},
   "source": [
    "## ☕ Java Reference\n",
    "```java\n",
    "class TreeNode {\n",
    "    int val;\n",
    "    TreeNode left, right;\n",
    "    TreeNode(int val) {\n",
    "        this.val = val;\n",
    "        left = right = null;\n",
    "    }\n",
    "}\n",
    "public class BinaryTree {\n",
    "    boolean isSameTree(TreeNode p, TreeNode q) {\n",
    "        if (p == null && q == null) return true;\n",
    "        if (p == null || q == null) return false;\n",
    "        return (p.val == q.val) &&\n",
    "               isSameTree(p.left, q.left) &&\n",
    "               isSameTree(p.right, q.right);\n",
    "    }\n",
    "    public static void main(String[] args) {\n",
    "        BinaryTree tree = new BinaryTree();\n",
    "        TreeNode p = new TreeNode(1);\n",
    "        p.left = new TreeNode(2);\n",
    "        p.right = new TreeNode(3);\n",
    "\n",
    "        TreeNode q = new TreeNode(1);\n",
    "        q.left = new TreeNode(2);\n",
    "        q.right = new TreeNode(3);\n",
    "\n",
    "        System.out.println(\"Are the two trees identical? \" + tree.isSameTree(p, q));\n",
    "    }\n",
    "}\n",
    "```"
   ]
  }
 ],
 "metadata": {
  "kernelspec": {"display_name": "Python 3","language": "python","name": "python3"},
  "language_info": {"name": "python"}
 },
 "nbformat": 4,
 "nbformat_minor": 2
}
