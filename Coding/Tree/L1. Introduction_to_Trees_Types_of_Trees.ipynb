{
 "cells": [
  {
   "cell_type": "markdown",
   "metadata": {},
   "source": [
    "## 🌳 What is a binary tree?\n",
    "A binary tree is a type of tree data structure in which each node has at most two children, usually referred to as the left child and the right child.\n",
    "\n",
    "It is called **binary** because each node can have zero, one, or two children."
   ]
  },
  {
   "cell_type": "markdown",
   "metadata": {},
   "source": [
    "### 🏗️ Structure of a binary tree node\n",
    "Each node typically contains:\n",
    "\n",
    "- Data (the value stored in the node)\n",
    "- Pointer to left child\n",
    "- Pointer to right child\n",
    "\n",
    "**Python example:**"
   ]
  },
  {
   "cell_type": "code",
   "execution_count": 1,
   "metadata": {},
   "outputs": [],
   "source": [
    "class Node:\n",
    "    def __init__(self, data):\n",
    "        self.data = data\n",
    "        self.left = None\n",
    "        self.right = None"
   ]
  },
  {
   "cell_type": "markdown",
   "metadata": {},
   "source": [
    "### 🪴 Properties of binary trees\n",
    "- Maximum nodes at level *l*: `2^(l - 1)`\n",
    "- Maximum nodes in a tree of height *h*: `2^h - 1`\n",
    "- Minimum height for *n* nodes: `ceil(log2(n + 1))`"
   ]
  },
  {
   "cell_type": "markdown",
   "metadata": {},
   "source": [
    "## 🚀 Types of binary trees\n",
    "- **Full Binary Tree**: Every node has either 0 or 2 children.\n",
    "- **Complete Binary Tree**: All levels are completely filled except possibly the last, which is filled left to right.\n",
    "- **Perfect Binary Tree**: All internal nodes have exactly 2 children, and all leaf nodes are at the same level.\n",
    "- **Balanced Binary Tree**: The height of the left and right subtrees of any node differ by at most 1.\n",
    "- **Degenerate (or Skewed) Tree**: Each parent node has only one child, like a linked list."
   ]
  },
  {
   "cell_type": "markdown",
   "metadata": {},
   "source": [
    "## 🔍 Common operations\n",
    "- **Insertion** — Add a node to the tree.\n",
    "- **Deletion** — Remove a node.\n",
    "- **Traversal** — Visit all nodes in some order:\n",
    "    - In-order (Left, Root, Right)\n",
    "    - Pre-order (Root, Left, Right)\n",
    "    - Post-order (Left, Right, Root)\n",
    "    - Level-order (by levels, using a queue)"
   ]
  },
  {
   "cell_type": "markdown",
   "metadata": {},
   "source": [
    "## ✅ Why use binary trees?\n",
    "- They provide efficient ways to store and manage hierarchical data.\n",
    "- Used in building more specialized trees, like Binary Search Trees (BSTs) and Heaps.\n",
    "- Support fast search, insert, and delete operations in balanced variants."
   ]
  },
  {
   "cell_type": "markdown",
   "metadata": {},
   "source": [
    "## 🐍 Example binary tree in Python"
   ]
  },
  {
   "cell_type": "code",
   "execution_count": 2,
   "metadata": {},
   "outputs": [],
   "source": [
    "# Building a simple binary tree\n",
    "#         1\n",
    "#       /   \\\n",
    "#      2     3\n",
    "#     / \\   \n",
    "#    4   5\n",
    "\n",
    "root = Node(1)\n",
    "root.left = Node(2)\n",
    "root.right = Node(3)\n",
    "root.left.left = Node(4)\n",
    "root.left.right = Node(5)"
   ]
  },
  {
   "cell_type": "code",
   "execution_count": 4,
   "metadata": {},
   "outputs": [
    {
     "name": "stdout",
     "output_type": "stream",
     "text": [
      "4 2 5 1 3 "
     ]
    }
   ],
   "source": [
    "# In-order Traversal (Left, Root, Right)\n",
    "def inorder(node):\n",
    "    if node:\n",
    "        inorder(node.left)\n",
    "        print(node.data, end=' ')\n",
    "        inorder(node.right)\n",
    "inorder(root)"
   ]
  },
  {
   "cell_type": "code",
   "execution_count": 6,
   "metadata": {},
   "outputs": [],
   "source": [
    "# Pre-order Traversal (Root, Left, Right)\n",
    "def preorder(node):\n",
    "    if node:\n",
    "        print(node.data, end=' ')\n",
    "        preorder(node.left)\n",
    "        preorder(node.right)"
   ]
  },
  {
   "cell_type": "code",
   "execution_count": 5,
   "metadata": {},
   "outputs": [],
   "source": [
    "# Post-order Traversal (Left, Right, Root)\n",
    "def postorder(node):\n",
    "    if node:\n",
    "        postorder(node.left)\n",
    "        postorder(node.right)\n",
    "        print(node.data, end=' ')"
   ]
  },
  {
   "cell_type": "code",
   "execution_count": null,
   "metadata": {},
   "outputs": [],
   "source": [
    "print(\"In-order traversal:\")\n",
    "inorder(root)\n",
    "print(\"\\nPre-order traversal:\")\n",
    "preorder(root)\n",
    "print(\"\\nPost-order traversal:\")\n",
    "postorder(root)"
   ]
  },
  {
   "cell_type": "markdown",
   "metadata": {},
   "source": [
    "## 🌲 Types of Binary Trees\n",
    "\n",
    "```\n",
    "1️⃣ Full Binary Tree\n",
    "    - Every node has 0 or 2 children.\n",
    "\n",
    "2️⃣ Complete Binary Tree\n",
    "    - All levels completely filled except possibly the last.\n",
    "\n",
    "3️⃣ Perfect Binary Tree\n",
    "    - All internal nodes have exactly 2 children, leaves at same level.\n",
    "\n",
    "4️⃣ Balanced Binary Tree\n",
    "    - Heights of left and right subtrees differ by at most 1.\n",
    "\n",
    "5️⃣ Degenerate (or Skewed) Binary Tree\n",
    "    - Each parent has only one child, like a linked list.\n",
    "```"
   ]
  }
 ],
 "metadata": {
  "kernelspec": {
   "display_name": "Python 3",
   "language": "python",
   "name": "python3"
  },
  "language_info": {
   "codemirror_mode": {
    "name": "ipython",
    "version": 3
   },
   "file_extension": ".py",
   "mimetype": "text/x-python",
   "name": "python",
   "nbconvert_exporter": "python",
   "pygments_lexer": "ipython3",
   "version": "3.12.3"
  }
 },
 "nbformat": 4,
 "nbformat_minor": 2
}
