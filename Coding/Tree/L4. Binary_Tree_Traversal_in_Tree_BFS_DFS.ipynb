{
 "cells": [
  {
   "cell_type": "markdown",
   "metadata": {},
   "source": [
    "# 🌳 Tree Traversal Techniques\n",
    "\n",
    "We can traverse a tree in mainly two ways:\n",
    "\n",
    "## 1️⃣ DFS (Depth First Search)\n",
    "- Visits a branch completely before backtracking.\n",
    "- Variants:\n",
    "    - **In-order (Left, Root, Right)**\n",
    "    - **Pre-order (Root, Left, Right)**\n",
    "    - **Post-order (Left, Right, Root)**\n",
    "\n",
    "## 2️⃣ BFS (Breadth First Search) or Level-order\n",
    "- Visits nodes level by level (uses a queue)."
   ]
  },
  {
   "cell_type": "markdown",
   "metadata": {},
   "source": [
    "## 🐍 Binary Tree Setup in Python"
   ]
  },
  {
   "cell_type": "code",
   "execution_count": null,
   "metadata": {},
   "outputs": [],
   "source": [
    "class Node:\n",
    "    def __init__(self, data):\n",
    "        self.data = data\n",
    "        self.left = None\n",
    "        self.right = None\n",
    "\n",
    "# Example tree:\n",
    "#         1\n",
    "#       /   \\\n",
    "#      2     3\n",
    "#     / \\\n",
    "#    4   5\n",
    "\n",
    "root = Node(1)\n",
    "root.left = Node(2)\n",
    "root.right = Node(3)\n",
    "root.left.left = Node(4)\n",
    "root.left.right = Node(5)"
   ]
  },
  {
   "cell_type": "markdown",
   "metadata": {},
   "source": [
    "## 🚀 DFS Traversals\n",
    "### ✅ In-order Traversal (Left, Root, Right)"
   ]
  },
  {
   "cell_type": "code",
   "execution_count": null,
   "metadata": {},
   "outputs": [],
   "source": [
    "def inorder(node):\n",
    "    if node:\n",
    "        inorder(node.left)\n",
    "        print(node.data, end=' ')\n",
    "        inorder(node.right)\n",
    "\n",
    "print(\"In-order traversal:\")\n",
    "inorder(root)"
   ]
  },
  {
   "cell_type": "markdown",
   "metadata": {},
   "source": [
    "### ✅ Pre-order Traversal (Root, Left, Right)"
   ]
  },
  {
   "cell_type": "code",
   "execution_count": null,
   "metadata": {},
   "outputs": [],
   "source": [
    "def preorder(node):\n",
    "    if node:\n",
    "        print(node.data, end=' ')\n",
    "        preorder(node.left)\n",
    "        preorder(node.right)\n",
    "\n",
    "print(\"\\nPre-order traversal:\")\n",
    "preorder(root)"
   ]
  },
  {
   "cell_type": "markdown",
   "metadata": {},
   "source": [
    "### ✅ Post-order Traversal (Left, Right, Root)"
   ]
  },
  {
   "cell_type": "code",
   "execution_count": null,
   "metadata": {},
   "outputs": [],
   "source": [
    "def postorder(node):\n",
    "    if node:\n",
    "        postorder(node.left)\n",
    "        postorder(node.right)\n",
    "        print(node.data, end=' ')\n",
    "\n",
    "print(\"\\nPost-order traversal:\")\n",
    "postorder(root)"
   ]
  },
  {
   "cell_type": "markdown",
   "metadata": {},
   "source": [
    "## 🚀 BFS Traversal (Level-order)"
   ]
  },
  {
   "cell_type": "code",
   "execution_count": null,
   "metadata": {},
   "outputs": [],
   "source": [
    "from collections import deque\n",
    "\n",
    "def level_order(node):\n",
    "    if not node:\n",
    "        return\n",
    "    queue = deque([node])\n",
    "    while queue:\n",
    "        current = queue.popleft()\n",
    "        print(current.data, end=' ')\n",
    "        if current.left:\n",
    "            queue.append(current.left)\n",
    "        if current.right:\n",
    "            queue.append(current.right)\n",
    "\n",
    "print(\"\\nLevel-order traversal:\")\n",
    "level_order(root)"
   ]
  },
  {
   "cell_type": "markdown",
   "metadata": {},
   "source": [
    "✅ Now you've seen all the major tree traversal techniques implemented on this sample tree!"
   ]
  }
 ],
 "metadata": {
  "kernelspec": {
   "display_name": "Python 3",
   "language": "python",
   "name": "python3"
  },
  "language_info": {
   "name": "python",
   "version": ""
  }
 },
 "nbformat": 4,
 "nbformat_minor": 2
}
