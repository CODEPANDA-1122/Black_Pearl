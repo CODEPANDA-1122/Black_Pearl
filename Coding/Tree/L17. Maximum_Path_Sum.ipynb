{
 "cells": [
  {
   "cell_type": "markdown",
   "metadata": {},
   "source": [
    "# 🌳 Maximum Path Sum in a Binary Tree\n",
    "\n",
    "**Definition:**\n",
    "- A path is any sequence of nodes from some starting node to any node in the tree along the parent-child connections.\n",
    "- Must move downward.\n",
    "\n",
    "**Goal:** Find the maximum sum of values along any path."
   ]
  },
  {
   "cell_type": "markdown",
   "metadata": {},
   "source": [
    "## 🚀 Python Code"
   ]
  },
  {
   "cell_type": "code",
   "execution_count": null,
   "metadata": {},
   "outputs": [],
   "source": [
    "class TreeNode:\n",
    "    def __init__(self, val=0, left=None, right=None):\n",
    "        self.val = val\n",
    "        self.left = left\n",
    "        self.right = right\n",
    "\n",
    "class Solution:\n",
    "    def maxPathSum(self, root):\n",
    "        def maxp(node, mx):\n",
    "            if not node:\n",
    "                return 0\n",
    "            l = max(0, maxp(node.left, mx))  # ignore negatives\n",
    "            r = max(0, maxp(node.right, mx))\n",
    "            mx[0] = max(mx[0], l + r + node.val)  # best at this node\n",
    "            return node.val + max(l, r)  # path extending upwards\n",
    "        mx = [float('-inf')]\n",
    "        maxp(root, mx)\n",
    "        return mx[0]"
   ]
  },
  {
   "cell_type": "markdown",
   "metadata": {},
   "source": [
    "## 🌿 Test Example"
   ]
  },
  {
   "cell_type": "code",
   "execution_count": null,
   "metadata": {},
   "outputs": [],
   "source": [
    "# Build tree\n",
    "root = TreeNode(-10)\n",
    "root.left = TreeNode(9)\n",
    "root.right = TreeNode(20)\n",
    "root.right.left = TreeNode(15)\n",
    "root.right.right = TreeNode(7)\n",
    "\n",
    "sol = Solution()\n",
    "print(\"Maximum path sum:\", sol.maxPathSum(root))  # Output: 42"
   ]
  },
  {
   "cell_type": "markdown",
   "metadata": {},
   "source": [
    "✅ **Time Complexity:** O(n) — each node visited once.\n",
    "\n",
    "✅ **Space Complexity:** O(h) — due to recursion stack."
   ]
  }
 ],
 "metadata": {
  "kernelspec": {"display_name": "Python 3","language": "python","name": "python3"},
  "language_info": {"name": "python"}
 },
 "nbformat": 4,
 "nbformat_minor": 2
}
