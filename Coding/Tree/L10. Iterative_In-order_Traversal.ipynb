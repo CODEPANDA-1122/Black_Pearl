{
 "cells": [
  {
   "cell_type": "markdown",
   "metadata": {},
   "source": [
    "# 🌳 Iterative In-order Traversal\n",
    "\n",
    "**Definition:**\n",
    "- Visits nodes in `Left -> Root -> Right` order.\n",
    "- Uses a stack to simulate recursion.\n",
    "\n",
    "✅ More memory-safe than recursion on deep trees."
   ]
  },
  {
   "cell_type": "markdown",
   "metadata": {},
   "source": [
    "## 🚀 Python Code (Iterative)"
   ]
  },
  {
   "cell_type": "code",
   "execution_count": null,
   "metadata": {},
   "outputs": [],
   "source": [
    "class Node:\n",
    "    def __init__(self, data):\n",
    "        self.data = data\n",
    "        self.left = None\n",
    "        self.right = None\n",
    "\n",
    "# Build tree\n",
    "root = Node(1)\n",
    "root.left = Node(2)\n",
    "root.right = Node(3)\n",
    "root.left.left = Node(4)\n",
    "root.left.right = Node(5)\n",
    "root.right.left = Node(6)\n",
    "\n",
    "def iterative_inorder(node):\n",
    "    stack = []\n",
    "    current = node\n",
    "    while current or stack:\n",
    "        while current:\n",
    "            stack.append(current)\n",
    "            current = current.left\n",
    "        current = stack.pop()\n",
    "        print(current.data, end=' ')\n",
    "        current = current.right\n",
    "\n",
    "print(\"Iterative In-order traversal:\")\n",
    "iterative_inorder(root)"
   ]
  },
  {
   "cell_type": "markdown",
   "metadata": {},
   "source": [
    "## ☕ Java Code (Iterative)\n",
    "```java\n",
    "import java.util.*;\n",
    "\n",
    "class Node {\n",
    "    int data;\n",
    "    Node left, right;\n",
    "    Node(int data) {\n",
    "        this.data = data;\n",
    "        left = right = null;\n",
    "    }\n",
    "}\n",
    "\n",
    "public class BinaryTree {\n",
    "    Node root;\n",
    "\n",
    "    void iterativeInorder(Node node) {\n",
    "        Stack<Node> stack = new Stack<>();\n",
    "        Node current = node;\n",
    "\n",
    "        while (current != null || !stack.isEmpty()) {\n",
    "            while (current != null) {\n",
    "                stack.push(current);\n",
    "                current = current.left;\n",
    "            }\n",
    "            current = stack.pop();\n",
    "            System.out.print(current.data + \" \");\n",
    "            current = current.right;\n",
    "        }\n",
    "    }\n",
    "\n",
    "    public static void main(String[] args) {\n",
    "        BinaryTree tree = new BinaryTree();\n",
    "        tree.root = new Node(1);\n",
    "        tree.root.left = new Node(2);\n",
    "        tree.root.right = new Node(3);\n",
    "        tree.root.left.left = new Node(4);\n",
    "        tree.root.left.right = new Node(5);\n",
    "        tree.root.right.left = new Node(6);\n",
    "\n",
    "        System.out.println(\"Iterative In-order traversal:\");\n",
    "        tree.iterativeInorder(tree.root);\n",
    "    }\n",
    "}\n",
    "```"
   ]
  },
  {
   "cell_type": "markdown",
   "metadata": {},
   "source": [
    "✅ **Time Complexity:** O(n) — each node visited once\n",
    "\n",
    "✅ **Space Complexity:** O(h) — `h = height` of tree, due to stack."
   ]
  }
 ],
 "metadata": {
  "kernelspec": {"display_name": "Python 3","language": "python","name": "python3"},
  "language_info": {"name": "python"}
 },
 "nbformat": 4,
 "nbformat_minor": 2
}
